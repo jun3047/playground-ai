{
 "cells": [
  {
   "cell_type": "markdown",
   "metadata": {},
   "source": [
    "### 초기 설정"
   ]
  },
  {
   "cell_type": "code",
   "execution_count": 139,
   "metadata": {},
   "outputs": [
    {
     "name": "stderr",
     "output_type": "stream",
     "text": [
      "/var/folders/rn/9l03hzb97h5d3c7l9rbf0clc0000gn/T/ipykernel_65679/653291407.py:5: DeprecationWarning: executable_path has been deprecated, please pass in a Service object\n",
      "  driver = webdriver.Chrome(\"/Users/jeongjun/Downloads/chromedriver\")\n"
     ]
    }
   ],
   "source": [
    "from selenium import webdriver\n",
    "from selenium.webdriver.common.by import By\n",
    "import re\n",
    "\n",
    "driver = webdriver.Chrome(\"/Users/jeongjun/Downloads/chromedriver\")\n",
    "\n",
    "#`처음 url로 이동\n",
    "URL = 'https://playground.tensorflow.org/'\n",
    "driver.get(URL)\n",
    "\n",
    "# play_pause 버튼 생성\n",
    "play_pause = driver.find_element(By.ID, 'play-pause-button')\n",
    "\n",
    "# test_loss 값 가져오기\n",
    "test_loss = driver.find_element(By.ID, 'loss-test')\n",
    "\n",
    "url = str()\n",
    "networkShape = str()"
   ]
  },
  {
   "cell_type": "markdown",
   "metadata": {},
   "source": [
    "### 함수정의"
   ]
  },
  {
   "cell_type": "code",
   "execution_count": 140,
   "metadata": {},
   "outputs": [],
   "source": [
    "# play_pause 버튼 클릭\n",
    "def play_pause_button():\n",
    "    global play_pause\n",
    "    play_pause = driver.find_element(By.ID, 'play-pause-button')\n",
    "    play_pause.click()\n",
    "\n",
    "# networkShape 값 갱신하기\n",
    "def updateNetworkShape():\n",
    "    global networkShape\n",
    "    url = getCurrentUrl() # 현재 url 가져오기\n",
    "    exp = re.compile('\\w+=\\w?[,\\w]+')\n",
    "    exp_list = exp.findall(url)\n",
    "\n",
    "    for i in exp_list:\n",
    "        if i.startswith('networkShape'):\n",
    "            networkShape = i.split('=')[1] #4,2와 같이 값이 저장\n",
    "\n",
    "# test_loss 값 가져오기\n",
    "def getTestLoss():\n",
    "    global test_loss\n",
    "    test_loss = driver.find_element(By.ID, 'loss-test')\n",
    "    return test_loss.text\n",
    "\n",
    "# 현재 url 가져오기\n",
    "def getCurrentUrl():\n",
    "    global driver\n",
    "    return driver.current_url\n",
    "\n",
    "# 새로운 url 값으로 url 변경\n",
    "def setUrl(url):\n",
    "    global driver\n",
    "    driver.get(url=url)\n",
    "\n",
    "# 새로운 NetworkShape 값 반영해서 url 변경\n",
    "def setNetworkShape(newNetworkShape):\n",
    "    global networkShape\n",
    "    updateNetworkShape()\n",
    "    temp = getCurrentUrl().split('networkShape={0}'.format(networkShape))\n",
    "    next_url = str(temp[0]) + 'networkShape=' + newNetworkShape + str(temp[1])\n",
    "    return str(next_url)\n",
    "\n",
    "# 웹 리로딩 (setUrl을 쓴 이후 리로딩하기 위함)\n",
    "def refesh():\n",
    "    global driver\n",
    "    driver.refresh()\n",
    "    updateNetworkShape()\n"
   ]
  },
  {
   "cell_type": "markdown",
   "metadata": {},
   "source": [
    "### 예제"
   ]
  },
  {
   "cell_type": "code",
   "execution_count": 143,
   "metadata": {},
   "outputs": [
    {
     "name": "stdout",
     "output_type": "stream",
     "text": [
      "0.444\n"
     ]
    }
   ],
   "source": [
    "## \"8,3,4,4,7\"로 퍼셉트론 변경 후 10초 동안 학습시킨 후 test_loss 값 출력, 이후 다시 \"4,2\"로 변경\n",
    "\n",
    "import time\n",
    "setUrl(setNetworkShape('8,3,4,4,7'))\n",
    "refesh()\n",
    "\n",
    "play_pause_button()\n",
    "time.sleep(10)\n",
    "play_pause_button()\n",
    "print(getTestLoss())\n",
    "\n",
    "setUrl(setNetworkShape('4,2'))\n",
    "refesh()"
   ]
  }
 ],
 "metadata": {
  "kernelspec": {
   "display_name": "Python 3.10.7 64-bit",
   "language": "python",
   "name": "python3"
  },
  "language_info": {
   "codemirror_mode": {
    "name": "ipython",
    "version": 3
   },
   "file_extension": ".py",
   "mimetype": "text/x-python",
   "name": "python",
   "nbconvert_exporter": "python",
   "pygments_lexer": "ipython3",
   "version": "3.10.7"
  },
  "orig_nbformat": 4,
  "vscode": {
   "interpreter": {
    "hash": "aee8b7b246df8f9039afb4144a1f6fd8d2ca17a180786b69acc140d282b71a49"
   }
  }
 },
 "nbformat": 4,
 "nbformat_minor": 2
}
