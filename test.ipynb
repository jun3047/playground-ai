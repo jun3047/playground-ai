{
 "cells": [
  {
   "cell_type": "code",
   "execution_count": 244,
   "metadata": {},
   "outputs": [
    {
     "name": "stderr",
     "output_type": "stream",
     "text": [
      "/var/folders/rn/9l03hzb97h5d3c7l9rbf0clc0000gn/T/ipykernel_60404/1413527525.py:5: DeprecationWarning: executable_path has been deprecated, please pass in a Service object\n",
      "  driver = webdriver.Chrome(\"/Users/jeongjun/Downloads/chromedriver\")\n"
     ]
    },
    {
     "name": "stdout",
     "output_type": "stream",
     "text": [
      "https://playground.tensorflow.org/#activation=tanh&batchSize=10&dataset=circle&regDataset=reg-plane&learningRate=0.03&regularizationRate=0&noise=0&networkShape=4,2&seed=0.64969&showTestData=false&discretize=false&percTrainData=50&x=true&y=true&xTimesY=false&xSquared=false&ySquared=false&cosX=false&sinX=false&cosY=false&sinY=false&collectStats=false&problem=classification&initZero=false&hideText=false\n",
      "['activation=tanh', 'batchSize=10', 'dataset=circle', 'regDataset=reg', 'networkShape=4,2', 'showTestData=false', 'discretize=false', 'percTrainData=50', 'x=true', 'y=true', 'xTimesY=false', 'xSquared=false', 'ySquared=false', 'cosX=false', 'sinX=false', 'cosY=false', 'sinY=false', 'collectStats=false', 'problem=classification', 'initZero=false', 'hideText=false']\n",
      "1\n",
      "learningRate:  \n",
      "activation:  tanh\n",
      "regularization:  \n",
      "regularizationRate:  \n",
      "networkShape:  4,2\n",
      "batchSize:  10\n"
     ]
    }
   ],
   "source": [
    "from selenium import webdriver\n",
    "import re\n",
    "from selenium.webdriver.common.by import By\n",
    "\n",
    "driver = webdriver.Chrome(\"/Users/jeongjun/Downloads/chromedriver\")\n",
    "\n",
    "def setUrl(url):\n",
    "    global driver\n",
    "    driver.get(url)\n",
    "\n",
    "#`사이트 url 가져오기\n",
    "URL = 'https://playground.tensorflow.org/'\n",
    "setUrl(URL)\n",
    "\n",
    "\n",
    "\n",
    "# play_pause 버튼 생성\n",
    "play_pause = driver.find_element(By.ID, 'play-pause-button')\n",
    "\n",
    "# test_loss 값 가져오기\n",
    "test_loss = driver.find_element(By.ID, 'loss-test')\n",
    "\n",
    "# 'name=vaule'형태로 리스트 만들기\n",
    "url = driver.current_url\n",
    "exp = re.compile('\\w+=\\w[,\\w]{1,}')\n",
    "exp_list = exp.findall(url)\n",
    "\n",
    "learningRate,activation,regularization,regularizationRate,batchSize = str(),str(),str(),str(),str()\n",
    "networkShape = list()\n",
    "\n",
    "\n",
    "print(url)\n",
    "\n",
    "print(exp_list)\n",
    "\n",
    "# 'name=value' 리스트에서 필요한 변수 추출\n",
    "for i in exp_list:\n",
    "    if i.startswith('learningRate'):\n",
    "        learningRate = i.split('=')[1]\n",
    "\n",
    "    if i.startswith('activation'):\n",
    "        activation = i.split('=')[1]\n",
    "\n",
    "    if i.startswith('regularization'):\n",
    "        regularization = i.split('=')[1]\n",
    "    \n",
    "    if i.startswith('regularizationRate'):\n",
    "        regularizationRate = i.split('=')[1]\n",
    "    \n",
    "    if i.startswith('networkShape'):\n",
    "        networkShape = i.split('=')[1]\n",
    "        print(1)\n",
    "\n",
    "    if i.startswith('batchSize'):\n",
    "        batchSize = i.split('=')[1]\n",
    "\n",
    "print(\"learningRate: \",learningRate)\n",
    "print(\"activation: \",activation)\n",
    "print(\"regularization: \",regularization)\n",
    "print(\"regularizationRate: \",regularizationRate)\n",
    "print(\"networkShape: \",networkShape)\n",
    "print(\"batchSize: \",batchSize)\n",
    "\n",
    "# features([8,bool], list)\n",
    "# learningRate(11, int)\n",
    "# activation(4, str)\n",
    "# regularization(3, str)\n",
    "# regularizationRate(10, int)\n",
    "# networkShape((0)to(8,8,8,8,8,8,8,8),list(int))\n",
    "# batchSize([1,30],int)"
   ]
  },
  {
   "cell_type": "markdown",
   "metadata": {},
   "source": [
    "# Features 정보 가져오기"
   ]
  },
  {
   "cell_type": "code",
   "execution_count": 239,
   "metadata": {},
   "outputs": [],
   "source": [
    "features_name = ['x','y','xTimesY','xSquared','ySquared','cosX','sinX','cosY','sinY']\n",
    "features = [\"\",\"\",\"\",\"\",\"\",\"\",\"\",\"\",\"\"]\n",
    "\n",
    "#features가 false인 값 가져오기\n",
    "false_exp = re.compile('\\w+=false')\n",
    "false_list = false_exp.findall(url)\n",
    "\n",
    "for i in false_list:\n",
    "    for j in range(len(features_name)):\n",
    "        if i.startswith(features_name[j]):\n",
    "            features[j] = 'false'\n",
    "\n",
    "#features가 true인 값 가져오기\n",
    "true_exp = re.compile('\\w+=true')\n",
    "true_list = true_exp.findall(url)\n",
    "\n",
    "for i in true_list:\n",
    "    for j in range(len(features_name)):\n",
    "        if i.startswith(features_name[j]):\n",
    "            features[j] = 'true'"
   ]
  },
  {
   "cell_type": "code",
   "execution_count": 240,
   "metadata": {},
   "outputs": [
    {
     "data": {
      "text/plain": [
       "'https://playground.tensorflow.org/#activation=tanh&batchSize=10&dataset=circle&regDataset=reg-plane&learningRate=0.03&regularizationRate=0&noise=0&networkShape=7&seed=0.31423&showTestData=false&discretize=false&percTrainData=50&x=true&y=true&xTimesY=false&xSquared=false&ySquared=false&cosX=false&sinX=false&cosY=false&sinY=false&collectStats=false&problem=classification&initZero=false&hideText=false'"
      ]
     },
     "execution_count": 240,
     "metadata": {},
     "output_type": "execute_result"
    }
   ],
   "source": [
    "def getCurrentUrl():\n",
    "    global driver\n",
    "    return driver.current_url\n",
    "\n",
    "def setNetworkShape(newNewworkShape):\n",
    "    global networkShape\n",
    "    temp = getCurrentUrl().split('networkShape={0}'.format(networkShape))    \n",
    "    next_url = str(temp[0]) + 'networkShape=' + newNewworkShape + str(temp[1])\n",
    "    return str(next_url)\n",
    "\n",
    "setNetworkShape(\"7\")"
   ]
  },
  {
   "cell_type": "code",
   "execution_count": 254,
   "metadata": {},
   "outputs": [
    {
     "ename": "IndexError",
     "evalue": "list index out of range",
     "output_type": "error",
     "traceback": [
      "\u001b[0;31m---------------------------------------------------------------------------\u001b[0m",
      "\u001b[0;31mIndexError\u001b[0m                                Traceback (most recent call last)",
      "\u001b[1;32m/Users/jeongjun/Desktop/playground-master 2/test.ipynb Cell 5\u001b[0m in \u001b[0;36m<cell line: 4>\u001b[0;34m()\u001b[0m\n\u001b[1;32m      <a href='vscode-notebook-cell:/Users/jeongjun/Desktop/playground-master%202/test.ipynb#W3sZmlsZQ%3D%3D?line=0'>1</a>\u001b[0m \u001b[39m#play_pause 버튼 클릭\u001b[39;00m\n\u001b[1;32m      <a href='vscode-notebook-cell:/Users/jeongjun/Desktop/playground-master%202/test.ipynb#W3sZmlsZQ%3D%3D?line=1'>2</a>\u001b[0m play_pause\u001b[39m.\u001b[39mclick()\n\u001b[0;32m----> <a href='vscode-notebook-cell:/Users/jeongjun/Desktop/playground-master%202/test.ipynb#W3sZmlsZQ%3D%3D?line=3'>4</a>\u001b[0m URL \u001b[39m=\u001b[39m setNetworkShape(\u001b[39m\"\u001b[39;49m\u001b[39m1,1\u001b[39;49m\u001b[39m\"\u001b[39;49m)\n\u001b[1;32m      <a href='vscode-notebook-cell:/Users/jeongjun/Desktop/playground-master%202/test.ipynb#W3sZmlsZQ%3D%3D?line=5'>6</a>\u001b[0m setUrl(URL)\n",
      "\u001b[1;32m/Users/jeongjun/Desktop/playground-master 2/test.ipynb Cell 5\u001b[0m in \u001b[0;36msetNetworkShape\u001b[0;34m(newNewworkShape)\u001b[0m\n\u001b[1;32m      <a href='vscode-notebook-cell:/Users/jeongjun/Desktop/playground-master%202/test.ipynb#W3sZmlsZQ%3D%3D?line=5'>6</a>\u001b[0m \u001b[39mglobal\u001b[39;00m networkShape\n\u001b[1;32m      <a href='vscode-notebook-cell:/Users/jeongjun/Desktop/playground-master%202/test.ipynb#W3sZmlsZQ%3D%3D?line=6'>7</a>\u001b[0m temp \u001b[39m=\u001b[39m getCurrentUrl()\u001b[39m.\u001b[39msplit(\u001b[39m'\u001b[39m\u001b[39mnetworkShape=\u001b[39m\u001b[39m{0}\u001b[39;00m\u001b[39m'\u001b[39m\u001b[39m.\u001b[39mformat(networkShape))    \n\u001b[0;32m----> <a href='vscode-notebook-cell:/Users/jeongjun/Desktop/playground-master%202/test.ipynb#W3sZmlsZQ%3D%3D?line=7'>8</a>\u001b[0m next_url \u001b[39m=\u001b[39m \u001b[39mstr\u001b[39m(temp[\u001b[39m0\u001b[39m]) \u001b[39m+\u001b[39m \u001b[39m'\u001b[39m\u001b[39mnetworkShape=\u001b[39m\u001b[39m'\u001b[39m \u001b[39m+\u001b[39m newNewworkShape \u001b[39m+\u001b[39m \u001b[39mstr\u001b[39m(temp[\u001b[39m1\u001b[39;49m])\n\u001b[1;32m      <a href='vscode-notebook-cell:/Users/jeongjun/Desktop/playground-master%202/test.ipynb#W3sZmlsZQ%3D%3D?line=8'>9</a>\u001b[0m \u001b[39mreturn\u001b[39;00m \u001b[39mstr\u001b[39m(next_url)\n",
      "\u001b[0;31mIndexError\u001b[0m: list index out of range"
     ]
    }
   ],
   "source": [
    "#play_pause 버튼 클릭\n",
    "play_pause.click()\n",
    "\n",
    "URL = setNetworkShape(\"1,1\")\n",
    "\n",
    "setUrl(URL)"
   ]
  }
 ],
 "metadata": {
  "kernelspec": {
   "display_name": "Python 3.10.7 64-bit",
   "language": "python",
   "name": "python3"
  },
  "language_info": {
   "codemirror_mode": {
    "name": "ipython",
    "version": 3
   },
   "file_extension": ".py",
   "mimetype": "text/x-python",
   "name": "python",
   "nbconvert_exporter": "python",
   "pygments_lexer": "ipython3",
   "version": "3.10.7"
  },
  "orig_nbformat": 4,
  "vscode": {
   "interpreter": {
    "hash": "aee8b7b246df8f9039afb4144a1f6fd8d2ca17a180786b69acc140d282b71a49"
   }
  }
 },
 "nbformat": 4,
 "nbformat_minor": 2
}
